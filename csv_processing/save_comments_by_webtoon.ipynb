{
 "cells": [
  {
   "cell_type": "code",
   "execution_count": null,
   "id": "c1871f00",
   "metadata": {},
   "outputs": [],
   "source": [
    "from pyspark.sql import SparkSession"
   ]
  },
  {
   "cell_type": "code",
   "execution_count": null,
   "id": "5e4c406e",
   "metadata": {},
   "outputs": [],
   "source": [
    "# 버킷명 읽어오기\n",
    "import os\n",
    "\n",
    "BUCKET_NAME = os.environ.get('S3_BUCKET_NAME')"
   ]
  },
  {
   "cell_type": "code",
   "execution_count": null,
   "id": "9b912912",
   "metadata": {},
   "outputs": [],
   "source": [
    "import os\n",
    "os.environ['PYSPARK_SUBMIT_ARGS'] = '--packages \"org.apache.hadoop:hadoop-aws:3.3.4\" pyspark-shell'"
   ]
  },
  {
   "cell_type": "code",
   "execution_count": null,
   "id": "367f5783",
   "metadata": {},
   "outputs": [],
   "source": [
    "spark = SparkSession.builder \\\n",
    "    .appName(\"S3JSONAnalysis\") \\\n",
    "    .config(\"spark.jars.packages\", \"org.apache.hadoop:hadoop-aws:3.3.4\") \\\n",
    "    .getOrCreate()"
   ]
  },
  {
   "cell_type": "code",
   "execution_count": null,
   "id": "ae8b8be9",
   "metadata": {},
   "outputs": [],
   "source": [
    "AWS_ACCESS_KEY_ID=\"...\"\n",
    "AWS_SECRET_ACCESS_KEY=\"...\"\n",
    "AWS_DEFAULT_REGION=\"...\"\n",
    "REGION_NAME=\"...\""
   ]
  },
  {
   "cell_type": "code",
   "execution_count": null,
   "id": "60790fdc",
   "metadata": {},
   "outputs": [],
   "source": [
    "import boto3\n",
    "\n",
    "s3 = boto3.client('s3', \n",
    "                  aws_access_key_id=AWS_ACCESS_KEY_ID, \n",
    "                  aws_secret_access_key=AWS_SECRET_ACCESS_KEY, \n",
    "                  region_name=REGION_NAME)\n",
    "obj_list = s3.list_objects(Bucket=BUCKET_NAME, Delimiter='/')\n",
    "content_list = obj_list['CommonPrefixes']"
   ]
  },
  {
   "cell_type": "code",
   "execution_count": null,
   "id": "d6cc96d3",
   "metadata": {},
   "outputs": [],
   "source": [
    "from pyspark.sql.functions import regexp_replace\n",
    "\n",
    "for i, content in enumerate(content_list):\n",
    "    webtoon_no = content['Prefix'].split('/')[0]\n",
    "    \n",
    "    df = spark.read \\\n",
    "        .option(\"header\", \"true\") \\\n",
    "        .option(\"inferSchema\", \"true\") \\\n",
    "        .json(f\"s3a://{bucket_name}/{webtoon_no}/*.json\")\n",
    "    \n",
    "    df\\\n",
    "        .coalesce(1)\\\n",
    "        .write\\\n",
    "        .mode(\"overwrite\")\\\n",
    "        .option(\"header\",True) \\\n",
    "        .csv(f\"csv_files/all_comments_{webtoon_no}.csv\")\n",
    "    \n",
    "    complete_hangul_df = df \\\n",
    "                    .withColumn(\"sentence\", regexp_replace(df[\"comment\"], \"[^가-힣\\s]+\", \"\"))\\\n",
    "                    .drop(\"comment\")\n",
    "    \n",
    "    complete_hangul_df\\\n",
    "        .coalesce(1)\\\n",
    "        .write\\\n",
    "        .mode(\"overwrite\")\\\n",
    "        .json(f\"complete_hangul/complete_hangul_output_{webtoon_no}.json\")\n",
    "    \n",
    "    print(i)"
   ]
  }
 ],
 "metadata": {
  "kernelspec": {
   "display_name": "Python 3 (ipykernel)",
   "language": "python",
   "name": "python3"
  },
  "language_info": {
   "codemirror_mode": {
    "name": "ipython",
    "version": 3
   },
   "file_extension": ".py",
   "mimetype": "text/x-python",
   "name": "python",
   "nbconvert_exporter": "python",
   "pygments_lexer": "ipython3",
   "version": "3.9.2"
  }
 },
 "nbformat": 4,
 "nbformat_minor": 5
}
